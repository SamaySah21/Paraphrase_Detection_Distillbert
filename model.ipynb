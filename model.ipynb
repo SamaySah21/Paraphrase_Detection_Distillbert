{
  "nbformat": 4,
  "nbformat_minor": 0,
  "metadata": {
    "kernelspec": {
      "display_name": "Python 3",
      "language": "python",
      "name": "python3"
    },
    "language_info": {
      "codemirror_mode": {
        "name": "ipython",
        "version": 3
      },
      "file_extension": ".py",
      "mimetype": "text/x-python",
      "name": "python",
      "nbconvert_exporter": "python",
      "pygments_lexer": "ipython3",
      "version": "3.6.12"
    },
    "papermill": {
      "duration": 9152.280774,
      "end_time": "2020-12-27T16:49:50.320271",
      "environment_variables": {},
      "exception": null,
      "input_path": "__notebook__.ipynb",
      "output_path": "__notebook__.ipynb",
      "parameters": {},
      "start_time": "2020-12-27T14:17:18.039497",
      "version": "2.1.0"
    },
    "colab": {
      "name": "model.ipynb",
      "provenance": [],
      "collapsed_sections": []
    },
    "accelerator": "GPU",
    "widgets": {
      "application/vnd.jupyter.widget-state+json": {
        "a8deccd348914f55a6219c3ecf8197d2": {
          "model_module": "@jupyter-widgets/controls",
          "model_name": "HBoxModel",
          "state": {
            "_view_name": "HBoxView",
            "_dom_classes": [],
            "_model_name": "HBoxModel",
            "_view_module": "@jupyter-widgets/controls",
            "_model_module_version": "1.5.0",
            "_view_count": null,
            "_view_module_version": "1.5.0",
            "box_style": "",
            "layout": "IPY_MODEL_ed3f2e9aa5964b0aae03efbfedf90738",
            "_model_module": "@jupyter-widgets/controls",
            "children": [
              "IPY_MODEL_8c7af3c69c574d5cbf228997acf6b1d4",
              "IPY_MODEL_47a2f736976d4bcfb63b6effe6c57136"
            ]
          }
        },
        "ed3f2e9aa5964b0aae03efbfedf90738": {
          "model_module": "@jupyter-widgets/base",
          "model_name": "LayoutModel",
          "state": {
            "_view_name": "LayoutView",
            "grid_template_rows": null,
            "right": null,
            "justify_content": null,
            "_view_module": "@jupyter-widgets/base",
            "overflow": null,
            "_model_module_version": "1.2.0",
            "_view_count": null,
            "flex_flow": null,
            "width": null,
            "min_width": null,
            "border": null,
            "align_items": null,
            "bottom": null,
            "_model_module": "@jupyter-widgets/base",
            "top": null,
            "grid_column": null,
            "overflow_y": null,
            "overflow_x": null,
            "grid_auto_flow": null,
            "grid_area": null,
            "grid_template_columns": null,
            "flex": null,
            "_model_name": "LayoutModel",
            "justify_items": null,
            "grid_row": null,
            "max_height": null,
            "align_content": null,
            "visibility": null,
            "align_self": null,
            "height": null,
            "min_height": null,
            "padding": null,
            "grid_auto_rows": null,
            "grid_gap": null,
            "max_width": null,
            "order": null,
            "_view_module_version": "1.2.0",
            "grid_template_areas": null,
            "object_position": null,
            "object_fit": null,
            "grid_auto_columns": null,
            "margin": null,
            "display": null,
            "left": null
          }
        },
        "8c7af3c69c574d5cbf228997acf6b1d4": {
          "model_module": "@jupyter-widgets/controls",
          "model_name": "FloatProgressModel",
          "state": {
            "_view_name": "ProgressView",
            "style": "IPY_MODEL_49cf3694719b4bdeb7ba4a947375a219",
            "_dom_classes": [],
            "description": "Downloading: 100%",
            "_model_name": "FloatProgressModel",
            "bar_style": "success",
            "max": 231508,
            "_view_module": "@jupyter-widgets/controls",
            "_model_module_version": "1.5.0",
            "value": 231508,
            "_view_count": null,
            "_view_module_version": "1.5.0",
            "orientation": "horizontal",
            "min": 0,
            "description_tooltip": null,
            "_model_module": "@jupyter-widgets/controls",
            "layout": "IPY_MODEL_26b08bd61d5a4dd9838f28dd975e262d"
          }
        },
        "47a2f736976d4bcfb63b6effe6c57136": {
          "model_module": "@jupyter-widgets/controls",
          "model_name": "HTMLModel",
          "state": {
            "_view_name": "HTMLView",
            "style": "IPY_MODEL_a9d8b8aa97024f30876bbfb25f67321d",
            "_dom_classes": [],
            "description": "",
            "_model_name": "HTMLModel",
            "placeholder": "​",
            "_view_module": "@jupyter-widgets/controls",
            "_model_module_version": "1.5.0",
            "value": " 232k/232k [00:00&lt;00:00, 625kB/s]",
            "_view_count": null,
            "_view_module_version": "1.5.0",
            "description_tooltip": null,
            "_model_module": "@jupyter-widgets/controls",
            "layout": "IPY_MODEL_1cc4a61d8e22411fb5a20c8ae55b6fea"
          }
        },
        "49cf3694719b4bdeb7ba4a947375a219": {
          "model_module": "@jupyter-widgets/controls",
          "model_name": "ProgressStyleModel",
          "state": {
            "_view_name": "StyleView",
            "_model_name": "ProgressStyleModel",
            "description_width": "initial",
            "_view_module": "@jupyter-widgets/base",
            "_model_module_version": "1.5.0",
            "_view_count": null,
            "_view_module_version": "1.2.0",
            "bar_color": null,
            "_model_module": "@jupyter-widgets/controls"
          }
        },
        "26b08bd61d5a4dd9838f28dd975e262d": {
          "model_module": "@jupyter-widgets/base",
          "model_name": "LayoutModel",
          "state": {
            "_view_name": "LayoutView",
            "grid_template_rows": null,
            "right": null,
            "justify_content": null,
            "_view_module": "@jupyter-widgets/base",
            "overflow": null,
            "_model_module_version": "1.2.0",
            "_view_count": null,
            "flex_flow": null,
            "width": null,
            "min_width": null,
            "border": null,
            "align_items": null,
            "bottom": null,
            "_model_module": "@jupyter-widgets/base",
            "top": null,
            "grid_column": null,
            "overflow_y": null,
            "overflow_x": null,
            "grid_auto_flow": null,
            "grid_area": null,
            "grid_template_columns": null,
            "flex": null,
            "_model_name": "LayoutModel",
            "justify_items": null,
            "grid_row": null,
            "max_height": null,
            "align_content": null,
            "visibility": null,
            "align_self": null,
            "height": null,
            "min_height": null,
            "padding": null,
            "grid_auto_rows": null,
            "grid_gap": null,
            "max_width": null,
            "order": null,
            "_view_module_version": "1.2.0",
            "grid_template_areas": null,
            "object_position": null,
            "object_fit": null,
            "grid_auto_columns": null,
            "margin": null,
            "display": null,
            "left": null
          }
        },
        "a9d8b8aa97024f30876bbfb25f67321d": {
          "model_module": "@jupyter-widgets/controls",
          "model_name": "DescriptionStyleModel",
          "state": {
            "_view_name": "StyleView",
            "_model_name": "DescriptionStyleModel",
            "description_width": "",
            "_view_module": "@jupyter-widgets/base",
            "_model_module_version": "1.5.0",
            "_view_count": null,
            "_view_module_version": "1.2.0",
            "_model_module": "@jupyter-widgets/controls"
          }
        },
        "1cc4a61d8e22411fb5a20c8ae55b6fea": {
          "model_module": "@jupyter-widgets/base",
          "model_name": "LayoutModel",
          "state": {
            "_view_name": "LayoutView",
            "grid_template_rows": null,
            "right": null,
            "justify_content": null,
            "_view_module": "@jupyter-widgets/base",
            "overflow": null,
            "_model_module_version": "1.2.0",
            "_view_count": null,
            "flex_flow": null,
            "width": null,
            "min_width": null,
            "border": null,
            "align_items": null,
            "bottom": null,
            "_model_module": "@jupyter-widgets/base",
            "top": null,
            "grid_column": null,
            "overflow_y": null,
            "overflow_x": null,
            "grid_auto_flow": null,
            "grid_area": null,
            "grid_template_columns": null,
            "flex": null,
            "_model_name": "LayoutModel",
            "justify_items": null,
            "grid_row": null,
            "max_height": null,
            "align_content": null,
            "visibility": null,
            "align_self": null,
            "height": null,
            "min_height": null,
            "padding": null,
            "grid_auto_rows": null,
            "grid_gap": null,
            "max_width": null,
            "order": null,
            "_view_module_version": "1.2.0",
            "grid_template_areas": null,
            "object_position": null,
            "object_fit": null,
            "grid_auto_columns": null,
            "margin": null,
            "display": null,
            "left": null
          }
        },
        "feb448d82f3b4eb2bb9ab0c08c5561cf": {
          "model_module": "@jupyter-widgets/controls",
          "model_name": "HBoxModel",
          "state": {
            "_view_name": "HBoxView",
            "_dom_classes": [],
            "_model_name": "HBoxModel",
            "_view_module": "@jupyter-widgets/controls",
            "_model_module_version": "1.5.0",
            "_view_count": null,
            "_view_module_version": "1.5.0",
            "box_style": "",
            "layout": "IPY_MODEL_727e9e7f50fb49e0b59dffd02155bfc4",
            "_model_module": "@jupyter-widgets/controls",
            "children": [
              "IPY_MODEL_9925e0d07f494c3793dc1a54f8bdb534",
              "IPY_MODEL_5a1f68ffb03947d5ab1b1a101d7aabac"
            ]
          }
        },
        "727e9e7f50fb49e0b59dffd02155bfc4": {
          "model_module": "@jupyter-widgets/base",
          "model_name": "LayoutModel",
          "state": {
            "_view_name": "LayoutView",
            "grid_template_rows": null,
            "right": null,
            "justify_content": null,
            "_view_module": "@jupyter-widgets/base",
            "overflow": null,
            "_model_module_version": "1.2.0",
            "_view_count": null,
            "flex_flow": null,
            "width": null,
            "min_width": null,
            "border": null,
            "align_items": null,
            "bottom": null,
            "_model_module": "@jupyter-widgets/base",
            "top": null,
            "grid_column": null,
            "overflow_y": null,
            "overflow_x": null,
            "grid_auto_flow": null,
            "grid_area": null,
            "grid_template_columns": null,
            "flex": null,
            "_model_name": "LayoutModel",
            "justify_items": null,
            "grid_row": null,
            "max_height": null,
            "align_content": null,
            "visibility": null,
            "align_self": null,
            "height": null,
            "min_height": null,
            "padding": null,
            "grid_auto_rows": null,
            "grid_gap": null,
            "max_width": null,
            "order": null,
            "_view_module_version": "1.2.0",
            "grid_template_areas": null,
            "object_position": null,
            "object_fit": null,
            "grid_auto_columns": null,
            "margin": null,
            "display": null,
            "left": null
          }
        },
        "9925e0d07f494c3793dc1a54f8bdb534": {
          "model_module": "@jupyter-widgets/controls",
          "model_name": "FloatProgressModel",
          "state": {
            "_view_name": "ProgressView",
            "style": "IPY_MODEL_e2430383412c48e19b879a345933909c",
            "_dom_classes": [],
            "description": "Downloading: 100%",
            "_model_name": "FloatProgressModel",
            "bar_style": "success",
            "max": 442,
            "_view_module": "@jupyter-widgets/controls",
            "_model_module_version": "1.5.0",
            "value": 442,
            "_view_count": null,
            "_view_module_version": "1.5.0",
            "orientation": "horizontal",
            "min": 0,
            "description_tooltip": null,
            "_model_module": "@jupyter-widgets/controls",
            "layout": "IPY_MODEL_2ad7df87ce5a4c7595782cf0eb5a1835"
          }
        },
        "5a1f68ffb03947d5ab1b1a101d7aabac": {
          "model_module": "@jupyter-widgets/controls",
          "model_name": "HTMLModel",
          "state": {
            "_view_name": "HTMLView",
            "style": "IPY_MODEL_1a296bbdd7db4e5c8417ecff6ae2fa21",
            "_dom_classes": [],
            "description": "",
            "_model_name": "HTMLModel",
            "placeholder": "​",
            "_view_module": "@jupyter-widgets/controls",
            "_model_module_version": "1.5.0",
            "value": " 442/442 [00:08&lt;00:00, 51.9B/s]",
            "_view_count": null,
            "_view_module_version": "1.5.0",
            "description_tooltip": null,
            "_model_module": "@jupyter-widgets/controls",
            "layout": "IPY_MODEL_19b5aa700b1f4114b0f49bd1ff260b97"
          }
        },
        "e2430383412c48e19b879a345933909c": {
          "model_module": "@jupyter-widgets/controls",
          "model_name": "ProgressStyleModel",
          "state": {
            "_view_name": "StyleView",
            "_model_name": "ProgressStyleModel",
            "description_width": "initial",
            "_view_module": "@jupyter-widgets/base",
            "_model_module_version": "1.5.0",
            "_view_count": null,
            "_view_module_version": "1.2.0",
            "bar_color": null,
            "_model_module": "@jupyter-widgets/controls"
          }
        },
        "2ad7df87ce5a4c7595782cf0eb5a1835": {
          "model_module": "@jupyter-widgets/base",
          "model_name": "LayoutModel",
          "state": {
            "_view_name": "LayoutView",
            "grid_template_rows": null,
            "right": null,
            "justify_content": null,
            "_view_module": "@jupyter-widgets/base",
            "overflow": null,
            "_model_module_version": "1.2.0",
            "_view_count": null,
            "flex_flow": null,
            "width": null,
            "min_width": null,
            "border": null,
            "align_items": null,
            "bottom": null,
            "_model_module": "@jupyter-widgets/base",
            "top": null,
            "grid_column": null,
            "overflow_y": null,
            "overflow_x": null,
            "grid_auto_flow": null,
            "grid_area": null,
            "grid_template_columns": null,
            "flex": null,
            "_model_name": "LayoutModel",
            "justify_items": null,
            "grid_row": null,
            "max_height": null,
            "align_content": null,
            "visibility": null,
            "align_self": null,
            "height": null,
            "min_height": null,
            "padding": null,
            "grid_auto_rows": null,
            "grid_gap": null,
            "max_width": null,
            "order": null,
            "_view_module_version": "1.2.0",
            "grid_template_areas": null,
            "object_position": null,
            "object_fit": null,
            "grid_auto_columns": null,
            "margin": null,
            "display": null,
            "left": null
          }
        },
        "1a296bbdd7db4e5c8417ecff6ae2fa21": {
          "model_module": "@jupyter-widgets/controls",
          "model_name": "DescriptionStyleModel",
          "state": {
            "_view_name": "StyleView",
            "_model_name": "DescriptionStyleModel",
            "description_width": "",
            "_view_module": "@jupyter-widgets/base",
            "_model_module_version": "1.5.0",
            "_view_count": null,
            "_view_module_version": "1.2.0",
            "_model_module": "@jupyter-widgets/controls"
          }
        },
        "19b5aa700b1f4114b0f49bd1ff260b97": {
          "model_module": "@jupyter-widgets/base",
          "model_name": "LayoutModel",
          "state": {
            "_view_name": "LayoutView",
            "grid_template_rows": null,
            "right": null,
            "justify_content": null,
            "_view_module": "@jupyter-widgets/base",
            "overflow": null,
            "_model_module_version": "1.2.0",
            "_view_count": null,
            "flex_flow": null,
            "width": null,
            "min_width": null,
            "border": null,
            "align_items": null,
            "bottom": null,
            "_model_module": "@jupyter-widgets/base",
            "top": null,
            "grid_column": null,
            "overflow_y": null,
            "overflow_x": null,
            "grid_auto_flow": null,
            "grid_area": null,
            "grid_template_columns": null,
            "flex": null,
            "_model_name": "LayoutModel",
            "justify_items": null,
            "grid_row": null,
            "max_height": null,
            "align_content": null,
            "visibility": null,
            "align_self": null,
            "height": null,
            "min_height": null,
            "padding": null,
            "grid_auto_rows": null,
            "grid_gap": null,
            "max_width": null,
            "order": null,
            "_view_module_version": "1.2.0",
            "grid_template_areas": null,
            "object_position": null,
            "object_fit": null,
            "grid_auto_columns": null,
            "margin": null,
            "display": null,
            "left": null
          }
        },
        "3442a6eb6e47471fb9722ccd14d99d78": {
          "model_module": "@jupyter-widgets/controls",
          "model_name": "HBoxModel",
          "state": {
            "_view_name": "HBoxView",
            "_dom_classes": [],
            "_model_name": "HBoxModel",
            "_view_module": "@jupyter-widgets/controls",
            "_model_module_version": "1.5.0",
            "_view_count": null,
            "_view_module_version": "1.5.0",
            "box_style": "",
            "layout": "IPY_MODEL_79184070870848acb2a90296c7ca3d32",
            "_model_module": "@jupyter-widgets/controls",
            "children": [
              "IPY_MODEL_bf8a5f62cb5d449db9c536035f9691c7",
              "IPY_MODEL_9bbeb98722ba4f64b3eb833f6bdc40b3"
            ]
          }
        },
        "79184070870848acb2a90296c7ca3d32": {
          "model_module": "@jupyter-widgets/base",
          "model_name": "LayoutModel",
          "state": {
            "_view_name": "LayoutView",
            "grid_template_rows": null,
            "right": null,
            "justify_content": null,
            "_view_module": "@jupyter-widgets/base",
            "overflow": null,
            "_model_module_version": "1.2.0",
            "_view_count": null,
            "flex_flow": null,
            "width": null,
            "min_width": null,
            "border": null,
            "align_items": null,
            "bottom": null,
            "_model_module": "@jupyter-widgets/base",
            "top": null,
            "grid_column": null,
            "overflow_y": null,
            "overflow_x": null,
            "grid_auto_flow": null,
            "grid_area": null,
            "grid_template_columns": null,
            "flex": null,
            "_model_name": "LayoutModel",
            "justify_items": null,
            "grid_row": null,
            "max_height": null,
            "align_content": null,
            "visibility": null,
            "align_self": null,
            "height": null,
            "min_height": null,
            "padding": null,
            "grid_auto_rows": null,
            "grid_gap": null,
            "max_width": null,
            "order": null,
            "_view_module_version": "1.2.0",
            "grid_template_areas": null,
            "object_position": null,
            "object_fit": null,
            "grid_auto_columns": null,
            "margin": null,
            "display": null,
            "left": null
          }
        },
        "bf8a5f62cb5d449db9c536035f9691c7": {
          "model_module": "@jupyter-widgets/controls",
          "model_name": "FloatProgressModel",
          "state": {
            "_view_name": "ProgressView",
            "style": "IPY_MODEL_a8ae334597b04cdaaab4ab49ae11b6ab",
            "_dom_classes": [],
            "description": "Downloading: 100%",
            "_model_name": "FloatProgressModel",
            "bar_style": "success",
            "max": 267967963,
            "_view_module": "@jupyter-widgets/controls",
            "_model_module_version": "1.5.0",
            "value": 267967963,
            "_view_count": null,
            "_view_module_version": "1.5.0",
            "orientation": "horizontal",
            "min": 0,
            "description_tooltip": null,
            "_model_module": "@jupyter-widgets/controls",
            "layout": "IPY_MODEL_6627c0ecb9294db9b22919d906d7b498"
          }
        },
        "9bbeb98722ba4f64b3eb833f6bdc40b3": {
          "model_module": "@jupyter-widgets/controls",
          "model_name": "HTMLModel",
          "state": {
            "_view_name": "HTMLView",
            "style": "IPY_MODEL_58449a67863f41038f41e2398b31e6f2",
            "_dom_classes": [],
            "description": "",
            "_model_name": "HTMLModel",
            "placeholder": "​",
            "_view_module": "@jupyter-widgets/controls",
            "_model_module_version": "1.5.0",
            "value": " 268M/268M [00:08&lt;00:00, 33.0MB/s]",
            "_view_count": null,
            "_view_module_version": "1.5.0",
            "description_tooltip": null,
            "_model_module": "@jupyter-widgets/controls",
            "layout": "IPY_MODEL_b3a1a1ba35104ebfba804eea200798a5"
          }
        },
        "a8ae334597b04cdaaab4ab49ae11b6ab": {
          "model_module": "@jupyter-widgets/controls",
          "model_name": "ProgressStyleModel",
          "state": {
            "_view_name": "StyleView",
            "_model_name": "ProgressStyleModel",
            "description_width": "initial",
            "_view_module": "@jupyter-widgets/base",
            "_model_module_version": "1.5.0",
            "_view_count": null,
            "_view_module_version": "1.2.0",
            "bar_color": null,
            "_model_module": "@jupyter-widgets/controls"
          }
        },
        "6627c0ecb9294db9b22919d906d7b498": {
          "model_module": "@jupyter-widgets/base",
          "model_name": "LayoutModel",
          "state": {
            "_view_name": "LayoutView",
            "grid_template_rows": null,
            "right": null,
            "justify_content": null,
            "_view_module": "@jupyter-widgets/base",
            "overflow": null,
            "_model_module_version": "1.2.0",
            "_view_count": null,
            "flex_flow": null,
            "width": null,
            "min_width": null,
            "border": null,
            "align_items": null,
            "bottom": null,
            "_model_module": "@jupyter-widgets/base",
            "top": null,
            "grid_column": null,
            "overflow_y": null,
            "overflow_x": null,
            "grid_auto_flow": null,
            "grid_area": null,
            "grid_template_columns": null,
            "flex": null,
            "_model_name": "LayoutModel",
            "justify_items": null,
            "grid_row": null,
            "max_height": null,
            "align_content": null,
            "visibility": null,
            "align_self": null,
            "height": null,
            "min_height": null,
            "padding": null,
            "grid_auto_rows": null,
            "grid_gap": null,
            "max_width": null,
            "order": null,
            "_view_module_version": "1.2.0",
            "grid_template_areas": null,
            "object_position": null,
            "object_fit": null,
            "grid_auto_columns": null,
            "margin": null,
            "display": null,
            "left": null
          }
        },
        "58449a67863f41038f41e2398b31e6f2": {
          "model_module": "@jupyter-widgets/controls",
          "model_name": "DescriptionStyleModel",
          "state": {
            "_view_name": "StyleView",
            "_model_name": "DescriptionStyleModel",
            "description_width": "",
            "_view_module": "@jupyter-widgets/base",
            "_model_module_version": "1.5.0",
            "_view_count": null,
            "_view_module_version": "1.2.0",
            "_model_module": "@jupyter-widgets/controls"
          }
        },
        "b3a1a1ba35104ebfba804eea200798a5": {
          "model_module": "@jupyter-widgets/base",
          "model_name": "LayoutModel",
          "state": {
            "_view_name": "LayoutView",
            "grid_template_rows": null,
            "right": null,
            "justify_content": null,
            "_view_module": "@jupyter-widgets/base",
            "overflow": null,
            "_model_module_version": "1.2.0",
            "_view_count": null,
            "flex_flow": null,
            "width": null,
            "min_width": null,
            "border": null,
            "align_items": null,
            "bottom": null,
            "_model_module": "@jupyter-widgets/base",
            "top": null,
            "grid_column": null,
            "overflow_y": null,
            "overflow_x": null,
            "grid_auto_flow": null,
            "grid_area": null,
            "grid_template_columns": null,
            "flex": null,
            "_model_name": "LayoutModel",
            "justify_items": null,
            "grid_row": null,
            "max_height": null,
            "align_content": null,
            "visibility": null,
            "align_self": null,
            "height": null,
            "min_height": null,
            "padding": null,
            "grid_auto_rows": null,
            "grid_gap": null,
            "max_width": null,
            "order": null,
            "_view_module_version": "1.2.0",
            "grid_template_areas": null,
            "object_position": null,
            "object_fit": null,
            "grid_auto_columns": null,
            "margin": null,
            "display": null,
            "left": null
          }
        }
      }
    }
  },
  "cells": [
    {
      "cell_type": "markdown",
      "metadata": {
        "id": "1ImCfngpIB1P"
      },
      "source": [
        "PARAPHRASE DETECTION MODEL : This model helps us to find whether 2 sentences are similiar to each other or not.\r\n",
        "\r\n",
        "Technology Used:\r\n",
        "\r\n",
        "1.   Hugging Face Transformer : Distillbert\r\n",
        "1.   Language : Python\r\n",
        "2.   Library : PyTorch\r\n",
        "4.   GPU Used: Google Colab"
      ]
    },
    {
      "cell_type": "code",
      "metadata": {
        "colab": {
          "base_uri": "https://localhost:8080/"
        },
        "id": "rt3M7YeYDIPK",
        "outputId": "592518d9-d493-4263-d225-25486ed8571d"
      },
      "source": [
        "!pip install transformers"
      ],
      "execution_count": 1,
      "outputs": [
        {
          "output_type": "stream",
          "text": [
            "Collecting transformers\n",
            "\u001b[?25l  Downloading https://files.pythonhosted.org/packages/f9/54/5ca07ec9569d2f232f3166de5457b63943882f7950ddfcc887732fc7fb23/transformers-4.3.3-py3-none-any.whl (1.9MB)\n",
            "\u001b[K     |████████████████████████████████| 1.9MB 10.7MB/s \n",
            "\u001b[?25hCollecting tokenizers<0.11,>=0.10.1\n",
            "\u001b[?25l  Downloading https://files.pythonhosted.org/packages/71/23/2ddc317b2121117bf34dd00f5b0de194158f2a44ee2bf5e47c7166878a97/tokenizers-0.10.1-cp37-cp37m-manylinux2010_x86_64.whl (3.2MB)\n",
            "\u001b[K     |████████████████████████████████| 3.2MB 33.4MB/s \n",
            "\u001b[?25hRequirement already satisfied: numpy>=1.17 in /usr/local/lib/python3.7/dist-packages (from transformers) (1.19.5)\n",
            "Requirement already satisfied: tqdm>=4.27 in /usr/local/lib/python3.7/dist-packages (from transformers) (4.41.1)\n",
            "Requirement already satisfied: requests in /usr/local/lib/python3.7/dist-packages (from transformers) (2.23.0)\n",
            "Requirement already satisfied: packaging in /usr/local/lib/python3.7/dist-packages (from transformers) (20.9)\n",
            "Requirement already satisfied: regex!=2019.12.17 in /usr/local/lib/python3.7/dist-packages (from transformers) (2019.12.20)\n",
            "Requirement already satisfied: importlib-metadata; python_version < \"3.8\" in /usr/local/lib/python3.7/dist-packages (from transformers) (3.7.0)\n",
            "Requirement already satisfied: filelock in /usr/local/lib/python3.7/dist-packages (from transformers) (3.0.12)\n",
            "Collecting sacremoses\n",
            "\u001b[?25l  Downloading https://files.pythonhosted.org/packages/7d/34/09d19aff26edcc8eb2a01bed8e98f13a1537005d31e95233fd48216eed10/sacremoses-0.0.43.tar.gz (883kB)\n",
            "\u001b[K     |████████████████████████████████| 890kB 37.1MB/s \n",
            "\u001b[?25hRequirement already satisfied: certifi>=2017.4.17 in /usr/local/lib/python3.7/dist-packages (from requests->transformers) (2020.12.5)\n",
            "Requirement already satisfied: chardet<4,>=3.0.2 in /usr/local/lib/python3.7/dist-packages (from requests->transformers) (3.0.4)\n",
            "Requirement already satisfied: urllib3!=1.25.0,!=1.25.1,<1.26,>=1.21.1 in /usr/local/lib/python3.7/dist-packages (from requests->transformers) (1.24.3)\n",
            "Requirement already satisfied: idna<3,>=2.5 in /usr/local/lib/python3.7/dist-packages (from requests->transformers) (2.10)\n",
            "Requirement already satisfied: pyparsing>=2.0.2 in /usr/local/lib/python3.7/dist-packages (from packaging->transformers) (2.4.7)\n",
            "Requirement already satisfied: zipp>=0.5 in /usr/local/lib/python3.7/dist-packages (from importlib-metadata; python_version < \"3.8\"->transformers) (3.4.1)\n",
            "Requirement already satisfied: typing-extensions>=3.6.4; python_version < \"3.8\" in /usr/local/lib/python3.7/dist-packages (from importlib-metadata; python_version < \"3.8\"->transformers) (3.7.4.3)\n",
            "Requirement already satisfied: six in /usr/local/lib/python3.7/dist-packages (from sacremoses->transformers) (1.15.0)\n",
            "Requirement already satisfied: click in /usr/local/lib/python3.7/dist-packages (from sacremoses->transformers) (7.1.2)\n",
            "Requirement already satisfied: joblib in /usr/local/lib/python3.7/dist-packages (from sacremoses->transformers) (1.0.1)\n",
            "Building wheels for collected packages: sacremoses\n",
            "  Building wheel for sacremoses (setup.py) ... \u001b[?25l\u001b[?25hdone\n",
            "  Created wheel for sacremoses: filename=sacremoses-0.0.43-cp37-none-any.whl size=893262 sha256=a2f67dfd531c8de703d02be9b07473631f43876067810b1e3ce16a8b09fe600a\n",
            "  Stored in directory: /root/.cache/pip/wheels/29/3c/fd/7ce5c3f0666dab31a50123635e6fb5e19ceb42ce38d4e58f45\n",
            "Successfully built sacremoses\n",
            "Installing collected packages: tokenizers, sacremoses, transformers\n",
            "Successfully installed sacremoses-0.0.43 tokenizers-0.10.1 transformers-4.3.3\n"
          ],
          "name": "stdout"
        }
      ]
    },
    {
      "cell_type": "code",
      "metadata": {
        "id": "MdQBOCiaDPo7"
      },
      "source": [
        "# Importing Libraries\r\n",
        "\r\n",
        "import torch\r\n",
        "import torch.nn as nn\r\n",
        "\r\n",
        "import numpy as np\r\n",
        "\r\n",
        "import pandas as pd\r\n",
        "import seaborn as sns\r\n",
        "import matplotlib.pyplot as plt\r\n",
        "\r\n",
        "from tqdm import tqdm\r\n",
        "\r\n",
        "from sklearn.model_selection import train_test_split\r\n",
        "\r\n",
        "import transformers\r\n",
        "from transformers import DistilBertTokenizer, DistilBertModel, AdamW, get_linear_schedule_with_warmup"
      ],
      "execution_count": 2,
      "outputs": []
    },
    {
      "cell_type": "markdown",
      "metadata": {
        "papermill": {
          "duration": 0.05509,
          "end_time": "2020-12-27T14:17:32.605149",
          "exception": false,
          "start_time": "2020-12-27T14:17:32.550059",
          "status": "completed"
        },
        "tags": [],
        "id": "lbzh9kDHdS3g"
      },
      "source": [
        "**Setting the device for model **"
      ]
    },
    {
      "cell_type": "code",
      "metadata": {
        "execution": {
          "iopub.execute_input": "2020-12-27T14:17:32.731764Z",
          "iopub.status.busy": "2020-12-27T14:17:32.730791Z",
          "iopub.status.idle": "2020-12-27T14:17:32.739349Z",
          "shell.execute_reply": "2020-12-27T14:17:32.740077Z"
        },
        "papermill": {
          "duration": 0.075745,
          "end_time": "2020-12-27T14:17:32.740266",
          "exception": false,
          "start_time": "2020-12-27T14:17:32.664521",
          "status": "completed"
        },
        "tags": [],
        "colab": {
          "base_uri": "https://localhost:8080/"
        },
        "id": "UujPDgSDdS3j",
        "outputId": "6ff44b4b-ca03-4c14-cfd7-d88337e2243e"
      },
      "source": [
        "device = torch.device(\"cuda\" if torch.cuda.is_available() else \"cpu\")\r\n",
        "device"
      ],
      "execution_count": 3,
      "outputs": [
        {
          "output_type": "execute_result",
          "data": {
            "text/plain": [
              "device(type='cuda')"
            ]
          },
          "metadata": {
            "tags": []
          },
          "execution_count": 3
        }
      ]
    },
    {
      "cell_type": "code",
      "metadata": {
        "colab": {
          "base_uri": "https://localhost:8080/"
        },
        "id": "sKP8AxnueLMO",
        "outputId": "e956fb1e-0c58-4999-d029-7bca37e93e46"
      },
      "source": [
        "# Mount Google Drive\r\n",
        "from google.colab import drive\r\n",
        "drive.mount('/content/drive/')"
      ],
      "execution_count": 4,
      "outputs": [
        {
          "output_type": "stream",
          "text": [
            "Mounted at /content/drive/\n"
          ],
          "name": "stdout"
        }
      ]
    },
    {
      "cell_type": "code",
      "metadata": {
        "id": "9hy8pcxhdS3m"
      },
      "source": [
        "# Loading Data\n",
        "\n",
        "DATAFOLDER = '/content/drive/MyDrive/MRPC/'               # set data path accordingly\n",
        "\n",
        "test_df = pd.read_csv(DATAFOLDER+\"msr_paraphrase_test.txt\", delimiter = \"\\t\")\n",
        "train_df = pd.read_csv(DATAFOLDER+\"msr_paraphrase_train.txt\", delimiter = \"\\t\")"
      ],
      "execution_count": 10,
      "outputs": []
    },
    {
      "cell_type": "code",
      "metadata": {
        "colab": {
          "base_uri": "https://localhost:8080/",
          "height": 204
        },
        "id": "Ixz0a02pKylF",
        "outputId": "a52e3031-bf27-4270-aaa0-9e93b179e6df"
      },
      "source": [
        "# View of Data\r\n",
        "train_df.head()"
      ],
      "execution_count": 11,
      "outputs": [
        {
          "output_type": "execute_result",
          "data": {
            "text/html": [
              "<div>\n",
              "<style scoped>\n",
              "    .dataframe tbody tr th:only-of-type {\n",
              "        vertical-align: middle;\n",
              "    }\n",
              "\n",
              "    .dataframe tbody tr th {\n",
              "        vertical-align: top;\n",
              "    }\n",
              "\n",
              "    .dataframe thead th {\n",
              "        text-align: right;\n",
              "    }\n",
              "</style>\n",
              "<table border=\"1\" class=\"dataframe\">\n",
              "  <thead>\n",
              "    <tr style=\"text-align: right;\">\n",
              "      <th></th>\n",
              "      <th>Quality</th>\n",
              "      <th>#1 ID</th>\n",
              "      <th>#2 ID</th>\n",
              "      <th>#1 String</th>\n",
              "      <th>#2 String</th>\n",
              "    </tr>\n",
              "  </thead>\n",
              "  <tbody>\n",
              "    <tr>\n",
              "      <th>0</th>\n",
              "      <td>1</td>\n",
              "      <td>702876</td>\n",
              "      <td>702977</td>\n",
              "      <td>Amrozi accused his brother , whom he called \" ...</td>\n",
              "      <td>Referring to him as only \" the witness \" , Amr...</td>\n",
              "    </tr>\n",
              "    <tr>\n",
              "      <th>1</th>\n",
              "      <td>0</td>\n",
              "      <td>2108705</td>\n",
              "      <td>2108831</td>\n",
              "      <td>Yucaipa owned Dominick 's before selling the c...</td>\n",
              "      <td>Yucaipa bought Dominick 's in 1995 for $ 693 m...</td>\n",
              "    </tr>\n",
              "    <tr>\n",
              "      <th>2</th>\n",
              "      <td>1</td>\n",
              "      <td>1330381</td>\n",
              "      <td>1330521</td>\n",
              "      <td>They had published an advertisement on the Int...</td>\n",
              "      <td>On June 10 , the ship 's owners had published ...</td>\n",
              "    </tr>\n",
              "    <tr>\n",
              "      <th>3</th>\n",
              "      <td>0</td>\n",
              "      <td>3344667</td>\n",
              "      <td>3344648</td>\n",
              "      <td>Around 0335 GMT , Tab shares were up 19 cents ...</td>\n",
              "      <td>Tab shares jumped 20 cents , or 4.6 % , to set...</td>\n",
              "    </tr>\n",
              "    <tr>\n",
              "      <th>4</th>\n",
              "      <td>1</td>\n",
              "      <td>1236820</td>\n",
              "      <td>1236712</td>\n",
              "      <td>The stock rose $ 2.11 , or about 11 percent , ...</td>\n",
              "      <td>PG &amp; E Corp. shares jumped $ 1.63 or 8 percent...</td>\n",
              "    </tr>\n",
              "  </tbody>\n",
              "</table>\n",
              "</div>"
            ],
            "text/plain": [
              "   Quality  ...                                          #2 String\n",
              "0        1  ...  Referring to him as only \" the witness \" , Amr...\n",
              "1        0  ...  Yucaipa bought Dominick 's in 1995 for $ 693 m...\n",
              "2        1  ...  On June 10 , the ship 's owners had published ...\n",
              "3        0  ...  Tab shares jumped 20 cents , or 4.6 % , to set...\n",
              "4        1  ...  PG & E Corp. shares jumped $ 1.63 or 8 percent...\n",
              "\n",
              "[5 rows x 5 columns]"
            ]
          },
          "metadata": {
            "tags": []
          },
          "execution_count": 11
        }
      ]
    },
    {
      "cell_type": "code",
      "metadata": {
        "id": "z7gII0Ctxhwa"
      },
      "source": [
        "# Backup Files for original Data\r\n",
        "\r\n",
        "train_df_copy = train_df.copy()\r\n",
        "test_df_copy = test_df.copy()"
      ],
      "execution_count": 12,
      "outputs": []
    },
    {
      "cell_type": "code",
      "metadata": {
        "id": "gKIap1LgdS3o"
      },
      "source": [
        "# Dropping Columns\n",
        "\n",
        "drop_col_names = [\"#1 ID\", \"#2 ID\"]\n",
        "train_df.drop(drop_col_names, axis = 1, inplace= True)\n",
        "test_df.drop(drop_col_names, axis = 1, inplace= True)"
      ],
      "execution_count": 13,
      "outputs": []
    },
    {
      "cell_type": "code",
      "metadata": {
        "id": "y8UAW69ydS3q"
      },
      "source": [
        "# Renaming columns\n",
        "rename_columns = {'Quality':'Label', '#1 String':'Original_Sentence', '#2 String':'Paraphrase_Sentence'}\n",
        "train_df.rename(columns = rename_columns, inplace = True)\n",
        "test_df.rename(columns = rename_columns, inplace = True)"
      ],
      "execution_count": 14,
      "outputs": []
    },
    {
      "cell_type": "code",
      "metadata": {
        "colab": {
          "base_uri": "https://localhost:8080/",
          "height": 204
        },
        "id": "HCBt0JaYdS3r",
        "outputId": "f3533800-b3ac-4edf-c977-018fab5bda29"
      },
      "source": [
        "# Train Data looks like below after drop and renaming the columns\r\n",
        "train_df.head()"
      ],
      "execution_count": 15,
      "outputs": [
        {
          "output_type": "execute_result",
          "data": {
            "text/html": [
              "<div>\n",
              "<style scoped>\n",
              "    .dataframe tbody tr th:only-of-type {\n",
              "        vertical-align: middle;\n",
              "    }\n",
              "\n",
              "    .dataframe tbody tr th {\n",
              "        vertical-align: top;\n",
              "    }\n",
              "\n",
              "    .dataframe thead th {\n",
              "        text-align: right;\n",
              "    }\n",
              "</style>\n",
              "<table border=\"1\" class=\"dataframe\">\n",
              "  <thead>\n",
              "    <tr style=\"text-align: right;\">\n",
              "      <th></th>\n",
              "      <th>Label</th>\n",
              "      <th>Original_Sentence</th>\n",
              "      <th>Paraphrase_Sentence</th>\n",
              "    </tr>\n",
              "  </thead>\n",
              "  <tbody>\n",
              "    <tr>\n",
              "      <th>0</th>\n",
              "      <td>1</td>\n",
              "      <td>Amrozi accused his brother , whom he called \" ...</td>\n",
              "      <td>Referring to him as only \" the witness \" , Amr...</td>\n",
              "    </tr>\n",
              "    <tr>\n",
              "      <th>1</th>\n",
              "      <td>0</td>\n",
              "      <td>Yucaipa owned Dominick 's before selling the c...</td>\n",
              "      <td>Yucaipa bought Dominick 's in 1995 for $ 693 m...</td>\n",
              "    </tr>\n",
              "    <tr>\n",
              "      <th>2</th>\n",
              "      <td>1</td>\n",
              "      <td>They had published an advertisement on the Int...</td>\n",
              "      <td>On June 10 , the ship 's owners had published ...</td>\n",
              "    </tr>\n",
              "    <tr>\n",
              "      <th>3</th>\n",
              "      <td>0</td>\n",
              "      <td>Around 0335 GMT , Tab shares were up 19 cents ...</td>\n",
              "      <td>Tab shares jumped 20 cents , or 4.6 % , to set...</td>\n",
              "    </tr>\n",
              "    <tr>\n",
              "      <th>4</th>\n",
              "      <td>1</td>\n",
              "      <td>The stock rose $ 2.11 , or about 11 percent , ...</td>\n",
              "      <td>PG &amp; E Corp. shares jumped $ 1.63 or 8 percent...</td>\n",
              "    </tr>\n",
              "  </tbody>\n",
              "</table>\n",
              "</div>"
            ],
            "text/plain": [
              "   Label  ...                                Paraphrase_Sentence\n",
              "0      1  ...  Referring to him as only \" the witness \" , Amr...\n",
              "1      0  ...  Yucaipa bought Dominick 's in 1995 for $ 693 m...\n",
              "2      1  ...  On June 10 , the ship 's owners had published ...\n",
              "3      0  ...  Tab shares jumped 20 cents , or 4.6 % , to set...\n",
              "4      1  ...  PG & E Corp. shares jumped $ 1.63 or 8 percent...\n",
              "\n",
              "[5 rows x 3 columns]"
            ]
          },
          "metadata": {
            "tags": []
          },
          "execution_count": 15
        }
      ]
    },
    {
      "cell_type": "code",
      "metadata": {
        "execution": {
          "iopub.execute_input": "2020-12-27T14:17:32.949949Z",
          "iopub.status.busy": "2020-12-27T14:17:32.948966Z",
          "iopub.status.idle": "2020-12-27T14:17:32.955903Z",
          "shell.execute_reply": "2020-12-27T14:17:32.957411Z"
        },
        "papermill": {
          "duration": 0.063689,
          "end_time": "2020-12-27T14:17:32.957596",
          "exception": false,
          "start_time": "2020-12-27T14:17:32.893907",
          "status": "completed"
        },
        "tags": [],
        "id": "EeidwkGidS3v"
      },
      "source": [
        "# Seeding for numpy and torch\n",
        "SEED = 1234\n",
        "np.random.seed(SEED)\n",
        "torch.manual_seed(SEED)\n",
        "torch.cuda.manual_seed(SEED)\n",
        "torch.backends.cudnn.deterministic = True"
      ],
      "execution_count": 16,
      "outputs": []
    },
    {
      "cell_type": "markdown",
      "metadata": {
        "papermill": {
          "duration": 0.041385,
          "end_time": "2020-12-27T14:17:33.090936",
          "exception": false,
          "start_time": "2020-12-27T14:17:33.049551",
          "status": "completed"
        },
        "tags": [],
        "id": "q-Ji-VSfdS3w"
      },
      "source": [
        "# Data analysis"
      ]
    },
    {
      "cell_type": "code",
      "metadata": {
        "execution": {
          "iopub.execute_input": "2020-12-27T14:17:35.542378Z",
          "iopub.status.busy": "2020-12-27T14:17:35.541535Z",
          "iopub.status.idle": "2020-12-27T14:17:35.693269Z",
          "shell.execute_reply": "2020-12-27T14:17:35.692714Z"
        },
        "papermill": {
          "duration": 0.18601,
          "end_time": "2020-12-27T14:17:35.693389",
          "exception": false,
          "start_time": "2020-12-27T14:17:35.507379",
          "status": "completed"
        },
        "tags": [],
        "id": "2Ccoezk_dS3x",
        "colab": {
          "base_uri": "https://localhost:8080/"
        },
        "outputId": "ba446e10-e1d4-4de0-b3bd-6861b8f1f36c"
      },
      "source": [
        "# checking for null\n",
        "\n",
        "print(test_df.isnull().sum())\n",
        "train_df.isnull().sum()"
      ],
      "execution_count": 19,
      "outputs": [
        {
          "output_type": "stream",
          "text": [
            "Label                  0\n",
            "Original_Sentence      0\n",
            "Paraphrase_Sentence    0\n",
            "dtype: int64\n"
          ],
          "name": "stdout"
        },
        {
          "output_type": "execute_result",
          "data": {
            "text/plain": [
              "Label                  0\n",
              "Original_Sentence      0\n",
              "Paraphrase_Sentence    0\n",
              "dtype: int64"
            ]
          },
          "metadata": {
            "tags": []
          },
          "execution_count": 19
        }
      ]
    },
    {
      "cell_type": "markdown",
      "metadata": {
        "papermill": {
          "duration": 0.031564,
          "end_time": "2020-12-27T14:17:35.756886",
          "exception": false,
          "start_time": "2020-12-27T14:17:35.725322",
          "status": "completed"
        },
        "tags": [],
        "id": "e6NibSmudS3y"
      },
      "source": [
        "### Draw graph which shows number of words in both questions."
      ]
    },
    {
      "cell_type": "code",
      "metadata": {
        "execution": {
          "iopub.execute_input": "2020-12-27T14:17:35.827405Z",
          "iopub.status.busy": "2020-12-27T14:17:35.826550Z",
          "iopub.status.idle": "2020-12-27T14:17:37.519734Z",
          "shell.execute_reply": "2020-12-27T14:17:37.518767Z"
        },
        "papermill": {
          "duration": 1.730911,
          "end_time": "2020-12-27T14:17:37.519868",
          "exception": false,
          "start_time": "2020-12-27T14:17:35.788957",
          "status": "completed"
        },
        "tags": [],
        "colab": {
          "base_uri": "https://localhost:8080/",
          "height": 336
        },
        "id": "_KOO8E5hdS3y",
        "outputId": "8b7c68c2-d355-48a5-9585-638090a5b69a"
      },
      "source": [
        "train_sentences_lens = train_df['Original_Sentence'].apply(lambda x: len(x.split(' '))).tolist()\n",
        "train_sentences_lens.extend(train_df['Paraphrase_Sentence'].apply(lambda x: len(x.split(' '))).tolist())\n",
        "sns.distplot(train_sentences_lens)"
      ],
      "execution_count": 20,
      "outputs": [
        {
          "output_type": "stream",
          "text": [
            "/usr/local/lib/python3.7/dist-packages/seaborn/distributions.py:2557: FutureWarning: `distplot` is a deprecated function and will be removed in a future version. Please adapt your code to use either `displot` (a figure-level function with similar flexibility) or `histplot` (an axes-level function for histograms).\n",
            "  warnings.warn(msg, FutureWarning)\n"
          ],
          "name": "stderr"
        },
        {
          "output_type": "execute_result",
          "data": {
            "text/plain": [
              "<matplotlib.axes._subplots.AxesSubplot at 0x7f521cac9910>"
            ]
          },
          "metadata": {
            "tags": []
          },
          "execution_count": 20
        },
        {
          "output_type": "display_data",
          "data": {
            "image/png": "[encoded data removed]",
            "text/plain": [
              "<Figure size 432x288 with 1 Axes>"
            ]
          },
          "metadata": {
            "tags": [],
            "needs_background": "light"
          }
        }
      ]
    },
    {
      "cell_type": "markdown",
      "metadata": {
        "papermill": {
          "duration": 0.034353,
          "end_time": "2020-12-27T14:17:37.588783",
          "exception": false,
          "start_time": "2020-12-27T14:17:37.554430",
          "status": "completed"
        },
        "tags": [],
        "id": "iZdD6no9dS30"
      },
      "source": [
        "As we see from the graph, the number of cases where words counts greater than 40 is too small."
      ]
    },
    {
      "cell_type": "code",
      "metadata": {
        "execution": {
          "iopub.execute_input": "2020-12-27T14:17:37.664531Z",
          "iopub.status.busy": "2020-12-27T14:17:37.662571Z",
          "iopub.status.idle": "2020-12-27T14:17:37.665303Z",
          "shell.execute_reply": "2020-12-27T14:17:37.665862Z"
        },
        "papermill": {
          "duration": 0.043034,
          "end_time": "2020-12-27T14:17:37.665987",
          "exception": false,
          "start_time": "2020-12-27T14:17:37.622953",
          "status": "completed"
        },
        "tags": [],
        "id": "cSWVLIpfdS32"
      },
      "source": [
        "MAX_LEN = 40          # Based on above graph setting max_length"
      ],
      "execution_count": 21,
      "outputs": []
    },
    {
      "cell_type": "code",
      "metadata": {
        "execution": {
          "iopub.execute_input": "2020-12-27T14:17:37.953583Z",
          "iopub.status.busy": "2020-12-27T14:17:37.952042Z",
          "iopub.status.idle": "2020-12-27T14:17:38.000588Z",
          "shell.execute_reply": "2020-12-27T14:17:38.001154Z"
        },
        "papermill": {
          "duration": 0.234536,
          "end_time": "2020-12-27T14:17:38.001280",
          "exception": false,
          "start_time": "2020-12-27T14:17:37.766744",
          "status": "completed"
        },
        "tags": [],
        "id": "tRPTVu5FdS33",
        "colab": {
          "base_uri": "https://localhost:8080/",
          "height": 264
        },
        "outputId": "310be456-ca19-43ee-9817-5291a0b61bc9"
      },
      "source": [
        "# Getting the distribution of class in pie chart\n",
        "def pie_chart(similar_questions_num, different_questions_num, set_type):\n",
        "    labels = 'paraphrase', 'Not Paraphrase'\n",
        "    sizes = [similar_questions_num, different_questions_num]\n",
        "\n",
        "    fig1, ax1 = plt.subplots()\n",
        "    ax1.set_title(set_type)\n",
        "    ax1.pie(sizes, labels=labels, autopct='%1.2f%%', shadow=True, startangle=90)\n",
        "\n",
        "    plt.show()\n",
        "\n",
        "similar_samples_num = sum(train_df['Label'].values)\n",
        "pie_chart(similar_samples_num, len(train_df['Label']) - similar_samples_num, 'train set')"
      ],
      "execution_count": 22,
      "outputs": [
        {
          "output_type": "display_data",
          "data": {
            "image/png": "[encoded data removed]",
            "text/plain": [
              "<Figure size 432x288 with 1 Axes>"
            ]
          },
          "metadata": {
            "tags": []
          }
        }
      ]
    },
    {
      "cell_type": "markdown",
      "metadata": {
        "papermill": {
          "duration": 0.040529,
          "end_time": "2020-12-27T14:18:09.711729",
          "exception": false,
          "start_time": "2020-12-27T14:18:09.671200",
          "status": "completed"
        },
        "tags": [],
        "id": "LyJ_r-FhdS38"
      },
      "source": [
        "# Dataset Preparation"
      ]
    },
    {
      "cell_type": "code",
      "metadata": {
        "execution": {
          "iopub.execute_input": "2020-12-27T14:18:09.795898Z",
          "iopub.status.busy": "2020-12-27T14:18:09.795275Z",
          "iopub.status.idle": "2020-12-27T14:18:09.799442Z",
          "shell.execute_reply": "2020-12-27T14:18:09.798973Z"
        },
        "papermill": {
          "duration": 0.047651,
          "end_time": "2020-12-27T14:18:09.799537",
          "exception": false,
          "start_time": "2020-12-27T14:18:09.751886",
          "status": "completed"
        },
        "tags": [],
        "id": "dkCcSlebdS39"
      },
      "source": [
        "DISTILED_BERT_VERSION = \"distilbert-base-uncased\"\n",
        "POOLED_OUTPUT_DIM = 768                  ## output dimesion of distledbert"
      ],
      "execution_count": 23,
      "outputs": []
    },
    {
      "cell_type": "code",
      "metadata": {
        "execution": {
          "iopub.execute_input": "2020-12-27T14:18:09.885171Z",
          "iopub.status.busy": "2020-12-27T14:18:09.884319Z",
          "iopub.status.idle": "2020-12-27T14:18:10.764431Z",
          "shell.execute_reply": "2020-12-27T14:18:10.763774Z"
        },
        "papermill": {
          "duration": 0.924292,
          "end_time": "2020-12-27T14:18:10.764571",
          "exception": false,
          "start_time": "2020-12-27T14:18:09.840279",
          "status": "completed"
        },
        "tags": [],
        "id": "r0Q_fGIEdS3_",
        "colab": {
          "base_uri": "https://localhost:8080/",
          "height": 66,
          "referenced_widgets": [
            "a8deccd348914f55a6219c3ecf8197d2",
            "ed3f2e9aa5964b0aae03efbfedf90738",
            "8c7af3c69c574d5cbf228997acf6b1d4",
            "47a2f736976d4bcfb63b6effe6c57136",
            "49cf3694719b4bdeb7ba4a947375a219",
            "26b08bd61d5a4dd9838f28dd975e262d",
            "a9d8b8aa97024f30876bbfb25f67321d",
            "1cc4a61d8e22411fb5a20c8ae55b6fea"
          ]
        },
        "outputId": "527c034b-8d52-4d23-8c2a-247ea14c861f"
      },
      "source": [
        "# Loading the tokenizer of pretrained bert model\r\n",
        "\r\n",
        "tokenizer = DistilBertTokenizer.from_pretrained(DISTILED_BERT_VERSION)"
      ],
      "execution_count": 24,
      "outputs": [
        {
          "output_type": "display_data",
          "data": {
            "application/vnd.jupyter.widget-view+json": {
              "model_id": "a8deccd348914f55a6219c3ecf8197d2",
              "version_minor": 0,
              "version_major": 2
            },
            "text/plain": [
              "HBox(children=(FloatProgress(value=0.0, description='Downloading', max=231508.0, style=ProgressStyle(descripti…"
            ]
          },
          "metadata": {
            "tags": []
          }
        },
        {
          "output_type": "stream",
          "text": [
            "\n"
          ],
          "name": "stdout"
        }
      ]
    },
    {
      "cell_type": "code",
      "metadata": {
        "execution": {
          "iopub.execute_input": "2020-12-27T14:18:10.853766Z",
          "iopub.status.busy": "2020-12-27T14:18:10.852994Z",
          "iopub.status.idle": "2020-12-27T14:18:10.972129Z",
          "shell.execute_reply": "2020-12-27T14:18:10.971583Z"
        },
        "papermill": {
          "duration": 0.165651,
          "end_time": "2020-12-27T14:18:10.972253",
          "exception": false,
          "start_time": "2020-12-27T14:18:10.806602",
          "status": "completed"
        },
        "tags": [],
        "id": "C06WKMLodS4A"
      },
      "source": [
        "# split data to train and validation sets\n",
        "\n",
        "train_df, val_df = train_test_split(train_df, test_size=0.2)\n",
        "train_df = train_df.reset_index(drop=True)\n",
        "val_df = val_df.reset_index(drop=True)"
      ],
      "execution_count": 25,
      "outputs": []
    },
    {
      "cell_type": "code",
      "metadata": {
        "execution": {
          "iopub.execute_input": "2020-12-27T14:18:11.070168Z",
          "iopub.status.busy": "2020-12-27T14:18:11.069387Z",
          "iopub.status.idle": "2020-12-27T14:18:11.073645Z",
          "shell.execute_reply": "2020-12-27T14:18:11.073134Z"
        },
        "papermill": {
          "duration": 0.059002,
          "end_time": "2020-12-27T14:18:11.073749",
          "exception": false,
          "start_time": "2020-12-27T14:18:11.014747",
          "status": "completed"
        },
        "tags": [],
        "id": "fP3lhmrndS4B"
      },
      "source": [
        "class DistilledBertDataSet:\n",
        "    def __init__(self, first_questions, second_questions, targets, tokenizer):\n",
        "        self.first_questions = first_questions\n",
        "        self.second_questions = second_questions\n",
        "        self.targets = targets\n",
        "        self.tokenizer = tokenizer\n",
        "        self.length = len(first_questions)\n",
        "        \n",
        "    def __len__(self):\n",
        "        return self.length\n",
        "\n",
        "    def __getitem__(self, item):\n",
        "        first_question = str(self.first_questions[item])\n",
        "        second_question = str(self.second_questions[item])\n",
        "\n",
        "        # removes extra white spaces from questions\n",
        "        first_question = \" \".join(first_question.split())\n",
        "        second_question = \" \".join(second_question.split())\n",
        "        \n",
        "        ### [CLS] question1 [SEP] questions2 [SEP] ... [PAD]\n",
        "        # convert sentence to sequence\n",
        "        inputs = self.tokenizer.encode_plus(\n",
        "            first_question,\n",
        "            second_question,\n",
        "            add_special_tokens=True,\n",
        "            padding='max_length',\n",
        "            max_length=2 * MAX_LEN + 3, # max length of 2 questions and 3 special tokens\n",
        "            truncation=True,\n",
        "        )\n",
        "        \n",
        "        # converting sequence to tensors\n",
        "        return {\n",
        "            \"ids\": torch.tensor(inputs[\"input_ids\"], dtype=torch.long),\n",
        "            # \"mask\": torch.tensor(inputs[\"attention_mask\"], dtype=torch.long),\n",
        "            # \"token_type_ids\": torch.tensor(inputs[\"token_type_ids\"], dtype=torch.long),\n",
        "            \"targets\": torch.tensor(int(self.targets[item]), dtype=torch.long) if self.targets is not None else 0\n",
        "        }\n",
        "        "
      ],
      "execution_count": 26,
      "outputs": []
    },
    {
      "cell_type": "code",
      "metadata": {
        "execution": {
          "iopub.execute_input": "2020-12-27T14:18:11.163389Z",
          "iopub.status.busy": "2020-12-27T14:18:11.162560Z",
          "iopub.status.idle": "2020-12-27T14:18:11.164976Z",
          "shell.execute_reply": "2020-12-27T14:18:11.165434Z"
        },
        "papermill": {
          "duration": 0.050302,
          "end_time": "2020-12-27T14:18:11.165560",
          "exception": false,
          "start_time": "2020-12-27T14:18:11.115258",
          "status": "completed"
        },
        "tags": [],
        "id": "lhzU-PhEdS4D"
      },
      "source": [
        "# creates dataset and returns dataloader of it\n",
        "def get_data_loader(dataVal, targets, batch_size, shuffle, tokenizer):\n",
        "    dataset = DistilledBertDataSet(\n",
        "        dataVal[\"Original_Sentence\"].values,\n",
        "        dataVal[\"Paraphrase_Sentence\"].values,\n",
        "        targets=targets,\n",
        "        tokenizer=tokenizer\n",
        "    )\n",
        "    \n",
        "    data_loader = torch.utils.data.DataLoader(\n",
        "        dataset,\n",
        "        batch_size = batch_size,\n",
        "        shuffle=shuffle\n",
        "    )\n",
        "    \n",
        "    return data_loader"
      ],
      "execution_count": 27,
      "outputs": []
    },
    {
      "cell_type": "code",
      "metadata": {
        "execution": {
          "iopub.execute_input": "2020-12-27T14:18:11.252463Z",
          "iopub.status.busy": "2020-12-27T14:18:11.251686Z",
          "iopub.status.idle": "2020-12-27T14:18:11.254135Z",
          "shell.execute_reply": "2020-12-27T14:18:11.254565Z"
        },
        "papermill": {
          "duration": 0.047422,
          "end_time": "2020-12-27T14:18:11.254678",
          "exception": false,
          "start_time": "2020-12-27T14:18:11.207256",
          "status": "completed"
        },
        "tags": [],
        "id": "3YPJx-HRdS4E"
      },
      "source": [
        "# training batch size we gonna use throughout this notebook.\n",
        "BS = 64"
      ],
      "execution_count": 28,
      "outputs": []
    },
    {
      "cell_type": "code",
      "metadata": {
        "execution": {
          "iopub.execute_input": "2020-12-27T14:18:11.345177Z",
          "iopub.status.busy": "2020-12-27T14:18:11.344429Z",
          "iopub.status.idle": "2020-12-27T14:18:11.346931Z",
          "shell.execute_reply": "2020-12-27T14:18:11.347447Z"
        },
        "papermill": {
          "duration": 0.051179,
          "end_time": "2020-12-27T14:18:11.347559",
          "exception": false,
          "start_time": "2020-12-27T14:18:11.296380",
          "status": "completed"
        },
        "tags": [],
        "id": "415I02CmdS4F"
      },
      "source": [
        "# create data loaders of training and validation data.\n",
        "train_data_loader = get_data_loader(\n",
        "    train_df,\n",
        "    targets=train_df[\"Label\"].values,\n",
        "    batch_size=BS,\n",
        "    shuffle=True,\n",
        "    tokenizer=tokenizer\n",
        ")\n",
        "\n",
        "val_data_loader = get_data_loader(\n",
        "    val_df,\n",
        "    targets=val_df[\"Label\"].values,\n",
        "    batch_size=4 * BS,\n",
        "    shuffle=True,\n",
        "    tokenizer=tokenizer\n",
        ")"
      ],
      "execution_count": 29,
      "outputs": []
    },
    {
      "cell_type": "markdown",
      "metadata": {
        "papermill": {
          "duration": 0.066735,
          "end_time": "2020-12-27T14:18:11.472037",
          "exception": false,
          "start_time": "2020-12-27T14:18:11.405302",
          "status": "completed"
        },
        "tags": [],
        "id": "jRMw68WpdS4H"
      },
      "source": [
        "# Model"
      ]
    },
    {
      "cell_type": "code",
      "metadata": {
        "execution": {
          "iopub.execute_input": "2020-12-27T14:18:11.608562Z",
          "iopub.status.busy": "2020-12-27T14:18:11.607692Z",
          "iopub.status.idle": "2020-12-27T14:18:42.498298Z",
          "shell.execute_reply": "2020-12-27T14:18:42.497675Z"
        },
        "papermill": {
          "duration": 30.962482,
          "end_time": "2020-12-27T14:18:42.498416",
          "exception": false,
          "start_time": "2020-12-27T14:18:11.535934",
          "status": "completed"
        },
        "tags": [],
        "id": "rLoVo758dS4H",
        "colab": {
          "base_uri": "https://localhost:8080/",
          "height": 115,
          "referenced_widgets": [
            "feb448d82f3b4eb2bb9ab0c08c5561cf",
            "727e9e7f50fb49e0b59dffd02155bfc4",
            "9925e0d07f494c3793dc1a54f8bdb534",
            "5a1f68ffb03947d5ab1b1a101d7aabac",
            "e2430383412c48e19b879a345933909c",
            "2ad7df87ce5a4c7595782cf0eb5a1835",
            "1a296bbdd7db4e5c8417ecff6ae2fa21",
            "19b5aa700b1f4114b0f49bd1ff260b97",
            "3442a6eb6e47471fb9722ccd14d99d78",
            "79184070870848acb2a90296c7ca3d32",
            "bf8a5f62cb5d449db9c536035f9691c7",
            "9bbeb98722ba4f64b3eb833f6bdc40b3",
            "a8ae334597b04cdaaab4ab49ae11b6ab",
            "6627c0ecb9294db9b22919d906d7b498",
            "58449a67863f41038f41e2398b31e6f2",
            "b3a1a1ba35104ebfba804eea200798a5"
          ]
        },
        "outputId": "16b04f89-2993-40fb-f2be-7de44033cc2b"
      },
      "source": [
        "class DistilBertModel(nn.Module):\n",
        "    def __init__(self, bert_path):\n",
        "        super(DistilBertModel, self).__init__()\n",
        "        self.bert_path = bert_path\n",
        "        self.bert = transformers.DistilBertModel.from_pretrained(self.bert_path, output_hidden_states=True)\n",
        "        self.dropout = nn.Dropout(0.3)\n",
        "        self.out = nn.Linear(POOLED_OUTPUT_DIM, 1)\n",
        "\n",
        "    def forward(self, ids):\n",
        "        distilbert_output = self.bert(input_ids = ids)\n",
        "        hidden_state = distilbert_output[0]\n",
        "        pooled_output = hidden_state[:, 0]\n",
        "\n",
        "        # sys.exit(\"juuu....\")\n",
        "        # # add dropout to prevent overfitting.\n",
        "        # pooled_tensor_val = torch.tensor(pooled)\n",
        "        pooled = self.dropout(pooled_output) \n",
        "        return self.out(pooled)\n",
        "\n",
        "model = DistilBertModel(DISTILED_BERT_VERSION).to(device)"
      ],
      "execution_count": 30,
      "outputs": [
        {
          "output_type": "display_data",
          "data": {
            "application/vnd.jupyter.widget-view+json": {
              "model_id": "feb448d82f3b4eb2bb9ab0c08c5561cf",
              "version_minor": 0,
              "version_major": 2
            },
            "text/plain": [
              "HBox(children=(FloatProgress(value=0.0, description='Downloading', max=442.0, style=ProgressStyle(description_…"
            ]
          },
          "metadata": {
            "tags": []
          }
        },
        {
          "output_type": "stream",
          "text": [
            "\n"
          ],
          "name": "stdout"
        },
        {
          "output_type": "display_data",
          "data": {
            "application/vnd.jupyter.widget-view+json": {
              "model_id": "3442a6eb6e47471fb9722ccd14d99d78",
              "version_minor": 0,
              "version_major": 2
            },
            "text/plain": [
              "HBox(children=(FloatProgress(value=0.0, description='Downloading', max=267967963.0, style=ProgressStyle(descri…"
            ]
          },
          "metadata": {
            "tags": []
          }
        },
        {
          "output_type": "stream",
          "text": [
            "\n"
          ],
          "name": "stdout"
        }
      ]
    },
    {
      "cell_type": "markdown",
      "metadata": {
        "papermill": {
          "duration": 0.043609,
          "end_time": "2020-12-27T14:18:42.586592",
          "exception": false,
          "start_time": "2020-12-27T14:18:42.542983",
          "status": "completed"
        },
        "tags": [],
        "id": "D80w2ecHdS4K"
      },
      "source": [
        "# Training"
      ]
    },
    {
      "cell_type": "code",
      "metadata": {
        "execution": {
          "iopub.execute_input": "2020-12-27T14:18:42.680345Z",
          "iopub.status.busy": "2020-12-27T14:18:42.679674Z",
          "iopub.status.idle": "2020-12-27T14:18:42.683932Z",
          "shell.execute_reply": "2020-12-27T14:18:42.683415Z"
        },
        "papermill": {
          "duration": 0.053118,
          "end_time": "2020-12-27T14:18:42.684029",
          "exception": false,
          "start_time": "2020-12-27T14:18:42.630911",
          "status": "completed"
        },
        "tags": [],
        "id": "yBvJRVVidS4L"
      },
      "source": [
        "# loss function is simple binary cross entropy loss\n",
        "# need sigmoid to put probabilities in [0,1] interval\n",
        "def loss_fn(outputs, targets):\n",
        "    outputs = torch.squeeze(outputs)\n",
        "    return nn.BCELoss()(nn.Sigmoid()(outputs), targets)"
      ],
      "execution_count": 31,
      "outputs": []
    },
    {
      "cell_type": "code",
      "metadata": {
        "execution": {
          "iopub.execute_input": "2020-12-27T14:18:42.889140Z",
          "iopub.status.busy": "2020-12-27T14:18:42.887613Z",
          "iopub.status.idle": "2020-12-27T14:18:42.890204Z",
          "shell.execute_reply": "2020-12-27T14:18:42.890674Z"
        },
        "papermill": {
          "duration": 0.062068,
          "end_time": "2020-12-27T14:18:42.890780",
          "exception": false,
          "start_time": "2020-12-27T14:18:42.828712",
          "status": "completed"
        },
        "tags": [],
        "id": "Uh2SjFITdS4O"
      },
      "source": [
        "def train_loop(epochs, train_data_loader, val_data_loader, model, optimizer, device, scheduler=None):\n",
        "    it = 1\n",
        "    total_loss = 0\n",
        "    \n",
        "    model.train()\n",
        "    for epoch in range(epochs):\n",
        "        print('Epoch: ', epoch + 1)\n",
        "        for batch in train_data_loader:\n",
        "            ids = batch[\"ids\"].to(device, dtype=torch.long)\n",
        "            # mask = batch[\"mask\"].to(device, dtype=torch.long)\n",
        "            # token_type_ids = batch[\"token_type_ids\"].to(device, dtype=torch.long)\n",
        "            targets = batch[\"targets\"].to(device, dtype=torch.float)\n",
        "\n",
        "            optimizer.zero_grad()\n",
        "            \n",
        "            # do forward pass, will save intermediate computations of the graph for later backprop use.\n",
        "            outputs = model(ids)\n",
        "            \n",
        "            loss = loss_fn(outputs, targets)\n",
        "            total_loss += loss.item()\n",
        "            \n",
        "            # running backprop.\n",
        "            loss.backward()\n",
        "            \n",
        "            # doing gradient descent step.\n",
        "            optimizer.step()\n",
        "            \n",
        "            # we are logging current loss/perplexity in every 100 iteration\n",
        "            if it % 10 == 0:\n",
        "                print('| Iter', it, '| Avg Train Loss', total_loss / 100)\n",
        "                total_loss = 0\n",
        "\n",
        "            it += 1\n",
        "        "
      ],
      "execution_count": 32,
      "outputs": []
    },
    {
      "cell_type": "code",
      "metadata": {
        "execution": {
          "iopub.execute_input": "2020-12-27T14:18:42.986383Z",
          "iopub.status.busy": "2020-12-27T14:18:42.985605Z",
          "iopub.status.idle": "2020-12-27T14:18:42.988572Z",
          "shell.execute_reply": "2020-12-27T14:18:42.988087Z"
        },
        "papermill": {
          "duration": 0.053277,
          "end_time": "2020-12-27T14:18:42.988670",
          "exception": false,
          "start_time": "2020-12-27T14:18:42.935393",
          "status": "completed"
        },
        "tags": [],
        "id": "whx3by_3dS4U"
      },
      "source": [
        "def run(model, train_df, device, train_data_loader, val_data_loader):\n",
        "    EPOCHS = 10\n",
        "    \n",
        "    lr = 3e-5\n",
        "    num_training_steps = int(len(train_data_loader) * EPOCHS)\n",
        "    optimizer = AdamW(model.parameters(), lr=lr)\n",
        "    scheduler = get_linear_schedule_with_warmup(\n",
        "        optimizer,\n",
        "        num_warmup_steps=0,\n",
        "        num_training_steps=num_training_steps\n",
        "    )\n",
        "    \n",
        "    \n",
        "    train_loop(EPOCHS, train_data_loader, val_data_loader,  model, optimizer, device, scheduler)"
      ],
      "execution_count": 33,
      "outputs": []
    },
    {
      "cell_type": "code",
      "metadata": {
        "execution": {
          "iopub.execute_input": "2020-12-27T14:18:43.090134Z",
          "iopub.status.busy": "2020-12-27T14:18:43.089430Z",
          "iopub.status.idle": "2020-12-27T15:21:02.223332Z",
          "shell.execute_reply": "2020-12-27T15:21:02.222764Z"
        },
        "papermill": {
          "duration": 3739.189408,
          "end_time": "2020-12-27T15:21:02.223455",
          "exception": false,
          "start_time": "2020-12-27T14:18:43.034047",
          "status": "completed"
        },
        "tags": [],
        "id": "FFbv-ILudS4V",
        "colab": {
          "base_uri": "https://localhost:8080/"
        },
        "outputId": "efa11e8e-60ea-4ae3-d4be-b2e93bd8d03b"
      },
      "source": [
        "run(model, train_df, device, train_data_loader, val_data_loader)"
      ],
      "execution_count": 34,
      "outputs": [
        {
          "output_type": "stream",
          "text": [
            "Epoch:  1\n",
            "| Iter 10 | Avg Train Loss 0.06657698392868042\n",
            "| Iter 20 | Avg Train Loss 0.062257171869277955\n",
            "| Iter 30 | Avg Train Loss 0.061020163893699644\n",
            "| Iter 40 | Avg Train Loss 0.06339754939079284\n",
            "| Iter 50 | Avg Train Loss 0.058649610877037045\n",
            "Epoch:  2\n",
            "| Iter 60 | Avg Train Loss 0.0620017147064209\n",
            "| Iter 70 | Avg Train Loss 0.056859554052352906\n",
            "| Iter 80 | Avg Train Loss 0.05879280924797058\n",
            "| Iter 90 | Avg Train Loss 0.05760066896677017\n",
            "| Iter 100 | Avg Train Loss 0.05513323336839676\n",
            "Epoch:  3\n",
            "| Iter 110 | Avg Train Loss 0.04811323285102844\n",
            "| Iter 120 | Avg Train Loss 0.04724299967288971\n",
            "| Iter 130 | Avg Train Loss 0.04428376406431198\n",
            "| Iter 140 | Avg Train Loss 0.04244817435741424\n",
            "| Iter 150 | Avg Train Loss 0.04038755655288696\n",
            "Epoch:  4\n",
            "| Iter 160 | Avg Train Loss 0.034059738516807554\n",
            "| Iter 170 | Avg Train Loss 0.030877957344055174\n",
            "| Iter 180 | Avg Train Loss 0.027564523071050645\n",
            "| Iter 190 | Avg Train Loss 0.02419229134917259\n",
            "| Iter 200 | Avg Train Loss 0.028300231546163557\n",
            "Epoch:  5\n",
            "| Iter 210 | Avg Train Loss 0.021927940249443053\n",
            "| Iter 220 | Avg Train Loss 0.015368121340870858\n",
            "| Iter 230 | Avg Train Loss 0.014004417285323143\n",
            "| Iter 240 | Avg Train Loss 0.013108346946537494\n",
            "| Iter 250 | Avg Train Loss 0.01296187274158001\n",
            "Epoch:  6\n",
            "| Iter 260 | Avg Train Loss 0.010756181627511978\n",
            "| Iter 270 | Avg Train Loss 0.007862520217895509\n",
            "| Iter 280 | Avg Train Loss 0.008384388126432895\n",
            "| Iter 290 | Avg Train Loss 0.0053409764543175696\n",
            "| Iter 300 | Avg Train Loss 0.00426021970808506\n",
            "Epoch:  7\n",
            "| Iter 310 | Avg Train Loss 0.007850275170058011\n",
            "| Iter 320 | Avg Train Loss 0.003948395792394877\n",
            "| Iter 330 | Avg Train Loss 0.0033408422954380513\n",
            "| Iter 340 | Avg Train Loss 0.0030152871645987033\n",
            "| Iter 350 | Avg Train Loss 0.004189995005726814\n",
            "Epoch:  8\n",
            "| Iter 360 | Avg Train Loss 0.0044277392607182265\n",
            "| Iter 370 | Avg Train Loss 0.002224974129348993\n",
            "| Iter 380 | Avg Train Loss 0.001666582995094359\n",
            "| Iter 390 | Avg Train Loss 0.0032873703492805363\n",
            "| Iter 400 | Avg Train Loss 0.0028318093810230493\n",
            "Epoch:  9\n",
            "| Iter 410 | Avg Train Loss 0.0031033399747684596\n",
            "| Iter 420 | Avg Train Loss 0.0013391953171230852\n",
            "| Iter 430 | Avg Train Loss 0.002756888880394399\n",
            "| Iter 440 | Avg Train Loss 0.001707893698476255\n",
            "| Iter 450 | Avg Train Loss 0.002302027782425284\n",
            "Epoch:  10\n",
            "| Iter 460 | Avg Train Loss 0.0020091718842741102\n",
            "| Iter 470 | Avg Train Loss 0.0019095223397016525\n",
            "| Iter 480 | Avg Train Loss 0.001906211436726153\n",
            "| Iter 490 | Avg Train Loss 0.0022174872062169014\n",
            "| Iter 500 | Avg Train Loss 0.0018100954475812614\n",
            "| Iter 510 | Avg Train Loss 0.0016945018479600548\n"
          ],
          "name": "stdout"
        }
      ]
    },
    {
      "cell_type": "code",
      "metadata": {
        "id": "NbleWGyzFVhr",
        "colab": {
          "base_uri": "https://localhost:8080/"
        },
        "outputId": "a0921ebc-a97c-42f1-dacb-820a2ec6c12d"
      },
      "source": [
        "# Saving the model\r\n",
        "model_pickle = DATAFOLDER+\"paraphrase.h5\"\r\n",
        "torch.save(model.state_dict(), model_pickle)\r\n",
        "print(\"Model Saved in H5 format\")"
      ],
      "execution_count": 35,
      "outputs": [
        {
          "output_type": "stream",
          "text": [
            "Model Saved in H5 format\n"
          ],
          "name": "stdout"
        }
      ]
    },
    {
      "cell_type": "markdown",
      "metadata": {
        "papermill": {
          "duration": 0.055709,
          "end_time": "2020-12-27T15:21:02.335085",
          "exception": false,
          "start_time": "2020-12-27T15:21:02.279376",
          "status": "completed"
        },
        "tags": [],
        "id": "4evLxeGidS4Z"
      },
      "source": [
        "# Testing"
      ]
    },
    {
      "cell_type": "code",
      "metadata": {
        "execution": {
          "iopub.execute_input": "2020-12-27T15:21:10.995883Z",
          "iopub.status.busy": "2020-12-27T15:21:10.993905Z",
          "iopub.status.idle": "2020-12-27T16:49:20.222012Z",
          "shell.execute_reply": "2020-12-27T16:49:20.221141Z"
        },
        "papermill": {
          "duration": 5289.294686,
          "end_time": "2020-12-27T16:49:20.222132",
          "exception": false,
          "start_time": "2020-12-27T15:21:10.927446",
          "status": "completed"
        },
        "tags": [],
        "colab": {
          "base_uri": "https://localhost:8080/"
        },
        "id": "JSfH66K_dS4Z",
        "outputId": "6dabd77b-91c0-43f6-b2b6-8b7075e9c474"
      },
      "source": [
        "# this function returns probabilities for every test case.\n",
        "def test(model, test_df, device):\n",
        "    predictions = torch.empty(0).to(device, dtype=torch.float)\n",
        "    \n",
        "    test_dataset = DistilledBertDataSet(\n",
        "        first_questions=test_df[\"Original_Sentence\"].values,\n",
        "        second_questions=test_df[\"Paraphrase_Sentence\"].values,\n",
        "        targets=None,\n",
        "        tokenizer=tokenizer\n",
        "    )\n",
        "    \n",
        "    test_data_loader = torch.utils.data.DataLoader(\n",
        "        test_dataset,\n",
        "        batch_size=512\n",
        "    )\n",
        "    \n",
        "    with torch.no_grad():\n",
        "        model.eval()\n",
        "        for batch in tqdm(test_data_loader):\n",
        "            ids = batch[\"ids\"]\n",
        "            # mask = batch[\"mask\"]\n",
        "            # token_type_ids = batch[\"token_type_ids\"]\n",
        "\n",
        "            ids = ids.to(device, dtype=torch.long)\n",
        "            # mask = mask.to(device, dtype=torch.long)\n",
        "            # token_type_ids = token_type_ids.to(device, dtype=torch.long)\n",
        "\n",
        "            outputs = model(ids=ids)\n",
        "            predictions = torch.cat((predictions, nn.Sigmoid()(outputs)))\n",
        "    \n",
        "    return predictions.cpu().numpy().squeeze()\n",
        "\n",
        "predictions = test(model, test_df, device)"
      ],
      "execution_count": 37,
      "outputs": [
        {
          "output_type": "stream",
          "text": [
            "100%|██████████| 4/4 [00:07<00:00,  1.86s/it]\n"
          ],
          "name": "stderr"
        }
      ]
    },
    {
      "cell_type": "code",
      "metadata": {
        "execution": {
          "iopub.execute_input": "2020-12-27T16:49:23.564891Z",
          "iopub.status.busy": "2020-12-27T16:49:23.563976Z",
          "iopub.status.idle": "2020-12-27T16:49:23.568821Z",
          "shell.execute_reply": "2020-12-27T16:49:23.569259Z"
        },
        "papermill": {
          "duration": 1.664304,
          "end_time": "2020-12-27T16:49:23.569396",
          "exception": false,
          "start_time": "2020-12-27T16:49:21.905092",
          "status": "completed"
        },
        "tags": [],
        "id": "4diMB51ddS4b"
      },
      "source": [
        "# write down answers in is_duplicate column.\n",
        "from sklearn.metrics import f1_score\n",
        "max_f1_score = 0\n",
        "threshold_max = 0\n",
        "\n",
        "for i in range (50,85):\n",
        "  j=i/100\n",
        "  list = []\n",
        "  for val in predictions:\n",
        "    if val>j:\n",
        "      list.append(1)\n",
        "    else:\n",
        "      list.append(0)\n",
        "  score_F1 = f1_score(test_df['Label'],list, average='weighted')\n",
        "  if score_F1 > max_f1_score:\n",
        "    max_f1_score = score_F1\n",
        "    threshold_max = j\n"
      ],
      "execution_count": 38,
      "outputs": []
    },
    {
      "cell_type": "code",
      "metadata": {
        "colab": {
          "base_uri": "https://localhost:8080/"
        },
        "id": "mAVw1Ntev2Gd",
        "outputId": "42b55598-abc9-4cb3-aa60-58d7f9518fa7"
      },
      "source": [
        "print(f\"The maximum f1 score is: {max_f1_score} with threshold value of: {threshold_max}\")"
      ],
      "execution_count": 39,
      "outputs": [
        {
          "output_type": "stream",
          "text": [
            "The maximum f1 score is: 0.7829216947141671 with threshold value of: 0.84\n"
          ],
          "name": "stdout"
        }
      ]
    },
    {
      "cell_type": "code",
      "metadata": {
        "id": "xuH1Ud6VkvyJ",
        "colab": {
          "base_uri": "https://localhost:8080/",
          "height": 359
        },
        "outputId": "c3186e32-c08d-4ddb-842d-c1ce0792754f"
      },
      "source": [
        "list = []\r\n",
        "for val in predictions:\r\n",
        "  if val > threshold_max:\r\n",
        "    list.append(1)\r\n",
        "  else:\r\n",
        "    list.append(0)\r\n",
        "test_df['prediction'] = list\r\n",
        "\r\n",
        "test_df.head(10)"
      ],
      "execution_count": 40,
      "outputs": [
        {
          "output_type": "execute_result",
          "data": {
            "text/html": [
              "<div>\n",
              "<style scoped>\n",
              "    .dataframe tbody tr th:only-of-type {\n",
              "        vertical-align: middle;\n",
              "    }\n",
              "\n",
              "    .dataframe tbody tr th {\n",
              "        vertical-align: top;\n",
              "    }\n",
              "\n",
              "    .dataframe thead th {\n",
              "        text-align: right;\n",
              "    }\n",
              "</style>\n",
              "<table border=\"1\" class=\"dataframe\">\n",
              "  <thead>\n",
              "    <tr style=\"text-align: right;\">\n",
              "      <th></th>\n",
              "      <th>Label</th>\n",
              "      <th>Original_Sentence</th>\n",
              "      <th>Paraphrase_Sentence</th>\n",
              "      <th>prediction</th>\n",
              "    </tr>\n",
              "  </thead>\n",
              "  <tbody>\n",
              "    <tr>\n",
              "      <th>0</th>\n",
              "      <td>1</td>\n",
              "      <td>PCCW 's chief operating officer \\t Mike Butche...</td>\n",
              "      <td>Current Chief Operating Officer Mike Butcher a...</td>\n",
              "      <td>1</td>\n",
              "    </tr>\n",
              "    <tr>\n",
              "      <th>1</th>\n",
              "      <td>1</td>\n",
              "      <td>The world 's two largest automakers said their...</td>\n",
              "      <td>Domestic sales at both GM and No. 2 Ford Motor...</td>\n",
              "      <td>1</td>\n",
              "    </tr>\n",
              "    <tr>\n",
              "      <th>2</th>\n",
              "      <td>1</td>\n",
              "      <td>According to the federal Centers for Disease C...</td>\n",
              "      <td>The Centers for Disease Control and Prevention...</td>\n",
              "      <td>1</td>\n",
              "    </tr>\n",
              "    <tr>\n",
              "      <th>3</th>\n",
              "      <td>0</td>\n",
              "      <td>A tropical storm rapidly developed in the Gulf...</td>\n",
              "      <td>A tropical storm rapidly developed in the Gulf...</td>\n",
              "      <td>1</td>\n",
              "    </tr>\n",
              "    <tr>\n",
              "      <th>4</th>\n",
              "      <td>0</td>\n",
              "      <td>The company didn 't detail the costs of the re...</td>\n",
              "      <td>But company officials expect the costs of the ...</td>\n",
              "      <td>0</td>\n",
              "    </tr>\n",
              "    <tr>\n",
              "      <th>5</th>\n",
              "      <td>1</td>\n",
              "      <td>The settling companies would also assign their...</td>\n",
              "      <td>Under the agreement \\t the settling companies ...</td>\n",
              "      <td>1</td>\n",
              "    </tr>\n",
              "    <tr>\n",
              "      <th>6</th>\n",
              "      <td>0</td>\n",
              "      <td>Air Commodore Quaife said the Hornets remained...</td>\n",
              "      <td>Air Commodore John Quaife said the security op...</td>\n",
              "      <td>1</td>\n",
              "    </tr>\n",
              "    <tr>\n",
              "      <th>7</th>\n",
              "      <td>1</td>\n",
              "      <td>A Washington County man may have the countys f...</td>\n",
              "      <td>The countys first and only human case of West ...</td>\n",
              "      <td>1</td>\n",
              "    </tr>\n",
              "    <tr>\n",
              "      <th>8</th>\n",
              "      <td>1</td>\n",
              "      <td>Moseley and a senior aide delivered their summ...</td>\n",
              "      <td>General Moseley and a senior aide presented th...</td>\n",
              "      <td>1</td>\n",
              "    </tr>\n",
              "    <tr>\n",
              "      <th>9</th>\n",
              "      <td>0</td>\n",
              "      <td>The broader Standard &amp; Poor 's 500 Index &lt; .SP...</td>\n",
              "      <td>The technology-laced Nasdaq Composite Index .I...</td>\n",
              "      <td>0</td>\n",
              "    </tr>\n",
              "  </tbody>\n",
              "</table>\n",
              "</div>"
            ],
            "text/plain": [
              "   Label  ... prediction\n",
              "0      1  ...          1\n",
              "1      1  ...          1\n",
              "2      1  ...          1\n",
              "3      0  ...          1\n",
              "4      0  ...          0\n",
              "5      1  ...          1\n",
              "6      0  ...          1\n",
              "7      1  ...          1\n",
              "8      1  ...          1\n",
              "9      0  ...          0\n",
              "\n",
              "[10 rows x 4 columns]"
            ]
          },
          "metadata": {
            "tags": []
          },
          "execution_count": 40
        }
      ]
    },
    {
      "cell_type": "code",
      "metadata": {
        "colab": {
          "base_uri": "https://localhost:8080/"
        },
        "id": "Qqh5hPNhqxQW",
        "outputId": "b564883d-5e58-4c15-a089-ebb8099c9a0d"
      },
      "source": [
        "# calculating accuracy metrics\r\n",
        "from sklearn.metrics import classification_report\r\n",
        "print(classification_report(test_df['Label'],test_df['prediction']))"
      ],
      "execution_count": 41,
      "outputs": [
        {
          "output_type": "stream",
          "text": [
            "              precision    recall  f1-score   support\n",
            "\n",
            "           0       0.75      0.56      0.64       574\n",
            "           1       0.80      0.91      0.85      1139\n",
            "\n",
            "    accuracy                           0.79      1713\n",
            "   macro avg       0.78      0.74      0.75      1713\n",
            "weighted avg       0.79      0.79      0.78      1713\n",
            "\n"
          ],
          "name": "stdout"
        }
      ]
    },
    {
      "cell_type": "code",
      "metadata": {
        "colab": {
          "base_uri": "https://localhost:8080/"
        },
        "id": "ijfMG9UiKMot",
        "outputId": "b4add0ed-3d07-458a-a042-8821c40e40c2"
      },
      "source": [
        "print(\"Confusion matrix:\\n\", pd.crosstab(test_df['Label'],test_df['prediction']))"
      ],
      "execution_count": 42,
      "outputs": [
        {
          "output_type": "stream",
          "text": [
            "Confusion matrix:\n",
            " prediction    0     1\n",
            "Label                \n",
            "0           324   250\n",
            "1           107  1032\n"
          ],
          "name": "stdout"
        }
      ]
    },
    {
      "cell_type": "code",
      "metadata": {
        "colab": {
          "base_uri": "https://localhost:8080/",
          "height": 35
        },
        "id": "gsETSkrqecwk",
        "outputId": "52dcc78b-728c-47b7-a252-d0257af7cf81"
      },
      "source": [
        "test_df[\"Original_Sentence\"][0]"
      ],
      "execution_count": 43,
      "outputs": [
        {
          "output_type": "execute_result",
          "data": {
            "application/vnd.google.colaboratory.intrinsic+json": {
              "type": "string"
            },
            "text/plain": [
              "\"PCCW 's chief operating officer \\t Mike Butcher \\t and Alex Arena \\t the chief financial officer \\t will report directly to Mr So .\""
            ]
          },
          "metadata": {
            "tags": []
          },
          "execution_count": 43
        }
      ]
    },
    {
      "cell_type": "markdown",
      "metadata": {
        "papermill": {
          "duration": 2.877894,
          "end_time": "2020-12-27T16:49:40.549841",
          "exception": false,
          "start_time": "2020-12-27T16:49:37.671947",
          "status": "completed"
        },
        "tags": [],
        "id": "b5QZH9p6dS4f"
      },
      "source": [
        "# Evaluation"
      ]
    },
    {
      "cell_type": "code",
      "metadata": {
        "execution": {
          "iopub.execute_input": "2020-12-27T16:49:44.065637Z",
          "iopub.status.busy": "2020-12-27T16:49:44.064571Z",
          "iopub.status.idle": "2020-12-27T16:49:44.067888Z",
          "shell.execute_reply": "2020-12-27T16:49:44.067381Z"
        },
        "papermill": {
          "duration": 1.828256,
          "end_time": "2020-12-27T16:49:44.068000",
          "exception": false,
          "start_time": "2020-12-27T16:49:42.239744",
          "status": "completed"
        },
        "tags": [],
        "id": "U2PVV6ahdS4f"
      },
      "source": [
        "# prints if two questions is similar and score of confidence\n",
        "def eval(model, tokenizer, original_sentence, paraphrase_sentence, device):\n",
        "    inputs = tokenizer.encode_plus(\n",
        "        original_sentence,\n",
        "        paraphrase_sentence,\n",
        "        add_special_tokens=True,\n",
        "    )\n",
        "\n",
        "    ids = torch.tensor([inputs[\"input_ids\"]], dtype=torch.long).to(device, dtype=torch.long)\n",
        "\n",
        "    with torch.no_grad():\n",
        "        model.eval()\n",
        "        output = model(ids=ids)\n",
        "        prob = nn.Sigmoid()(output).item()\n",
        "\n",
        "        print(\"questions [{}] and [{}] are {} with score {}\".format(original_sentence, paraphrase_sentence, 'similar' if prob > 0.58 else 'not similar', prob))"
      ],
      "execution_count": 44,
      "outputs": []
    },
    {
      "cell_type": "code",
      "metadata": {
        "execution": {
          "iopub.execute_input": "2020-12-27T16:49:47.359900Z",
          "iopub.status.busy": "2020-12-27T16:49:47.358859Z",
          "iopub.status.idle": "2020-12-27T16:49:47.380510Z",
          "shell.execute_reply": "2020-12-27T16:49:47.379732Z"
        },
        "papermill": {
          "duration": 1.659659,
          "end_time": "2020-12-27T16:49:47.380642",
          "exception": false,
          "start_time": "2020-12-27T16:49:45.720983",
          "status": "completed"
        },
        "tags": [],
        "colab": {
          "base_uri": "https://localhost:8080/"
        },
        "id": "B3jD98NPdS4g",
        "outputId": "009d4600-0733-460b-ae5c-b0c5b912951f"
      },
      "source": [
        "# change questions to test model\n",
        "original_sentence = \"And because it is so far out in international water , salvage company Odyssey Marine Exploration does not have to share the wealth with coastal state governments .\"\n",
        "paraphrase_sentence = \"It is so far out in international water that the finder Odyssey Marine Exploration , of Tampa , Fla . , does not have to share the wealth with any governments .\"\n",
        "\n",
        "eval(model, tokenizer, original_sentence, paraphrase_sentence, device)"
      ],
      "execution_count": 45,
      "outputs": [
        {
          "output_type": "stream",
          "text": [
            "questions [And because it is so far out in international water , salvage company Odyssey Marine Exploration does not have to share the wealth with coastal state governments .] and [It is so far out in international water that the finder Odyssey Marine Exploration , of Tampa , Fla . , does not have to share the wealth with any governments .] are similar with score 0.9997267127037048\n"
          ],
          "name": "stdout"
        }
      ]
    }
  ]
}